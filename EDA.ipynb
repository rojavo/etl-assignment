{
 "cells": [
  {
   "cell_type": "markdown",
   "metadata": {},
   "source": [
    "EXPLORATORY DATA ANALYSIS\n",
    "\n",
    "PROJECT: data-engineer-assignment\n",
    "\n",
    "DATA: The squirrel census\n",
    "\n",
    "TABLES: park-data.csv and squirrel-data.csv"
   ]
  },
  {
   "cell_type": "code",
   "execution_count": 2,
   "metadata": {},
   "outputs": [],
   "source": [
    "#import libraries\n",
    "from pyspark.sql import SparkSession\n",
    "from pyspark.sql.functions import col, to_timestamp, when, to_date, date_format, concat, lit, ArrayType, StringType\n",
    "from pyspark.sql.types import TimestampType\n",
    "from pyspark.sql.functions import udf\n",
    "import pytz\n",
    "from datetime import datetime\n",
    "import pandas as pd\n",
    "import spacy\n",
    "import re\n"
   ]
  },
  {
   "cell_type": "code",
   "execution_count": 3,
   "metadata": {},
   "outputs": [
    {
     "name": "stderr",
     "output_type": "stream",
     "text": [
      "Setting default log level to \"WARN\".\n",
      "To adjust logging level use sc.setLogLevel(newLevel). For SparkR, use setLogLevel(newLevel).\n",
      "24/07/21 20:30:48 WARN NativeCodeLoader: Unable to load native-hadoop library for your platform... using builtin-java classes where applicable\n"
     ]
    }
   ],
   "source": [
    "#path to the data and files\n",
    "path = 'data/'\n",
    "files = ['park-data.csv', 'squirrel-data.csv']\n",
    "\n",
    "#create a sapark session and save it in DFs\n",
    "spark = SparkSession.builder.appName(\"ReadingApp\").getOrCreate()\n",
    "\n",
    "df_pdata = spark.read.option(\"header\", \"true\").csv(path+files[0]) #data park df\n",
    "df_sdata = spark.read.option(\"header\", \"true\").csv(path+files[1]) #data squirrel df"
   ]
  },
  {
   "cell_type": "markdown",
   "metadata": {},
   "source": [
    "## PARK DATA"
   ]
  },
  {
   "cell_type": "code",
   "execution_count": 4,
   "metadata": {},
   "outputs": [
    {
     "name": "stdout",
     "output_type": "stream",
     "text": [
      "total number of rows: 25\n",
      "+-----------------+-------+--------------------+-------+------+----------+----------+-------------------------------------+--------------------+----------------------+--------------------+---------------------+\n",
      "|        Area Name|Area ID|           Park Name|Park ID|  Date|Start Time|  End Time|Total Time (in minutes, if available)|     Park Conditions|Other Animal Sightings|              Litter|Temperature & Weather|\n",
      "+-----------------+-------+--------------------+-------+------+----------+----------+-------------------------------------+--------------------+----------------------+--------------------+---------------------+\n",
      "|  UPPER MANHATTAN|      A|     Fort Tryon Park|      1|3/1/20|3:14:00 PM|4:05:00 PM|                                   51|                Busy|  Humans, Dogs, Pig...|                Some|    43 degrees, sunny|\n",
      "|  UPPER MANHATTAN|      A| J. Hood Wright Park|      2|3/1/20|3:30:00 PM|4:00:00 PM|                                   30|                Calm|  Humans, Hawks, Do...|      Some, in trees|          cold, clear|\n",
      "|  UPPER MANHATTAN|      A|     Highbridge Park|      3|3/1/20|3:21:00 PM|4:15:00 PM|                                   54|Calm, pick-up bas...|  Humans, Dogs (3, ...|Some, especially ...|           43 degrees|\n",
      "|  UPPER MANHATTAN|      A|   St. Nicholas Park|      4|3/1/20|3:15:00 PM|3:45:00 PM|                                   30|                Calm|          Humans, Dogs|Some, backside of...|    43 degrees, clear|\n",
      "|  UPPER MANHATTAN|      A|Riverside Park (s...|      5|3/1/20|3:15:00 PM|3:45:00 PM|                                   30|                Calm|          Humans, Dogs|                NULL|                 NULL|\n",
      "|  UPPER MANHATTAN|      A|  Marcus Garvey Park|      6|3/1/20|3:45:00 PM|4:15:00 PM|                                   30|Calm, re: humans,...|  Hawks, Dogs, Pigeons|            Abundant|    42 degrees, clear|\n",
      "|CENTRAL MANHATTAN|      B| Madison Square Park|      7|3/1/20|2:30:00 PM|3:50:00 PM|                                   80|                Busy|  Humans, Dogs, Pig...|                NULL|    43 degrees, sunny|\n",
      "|CENTRAL MANHATTAN|      B|   Union Square Park|      8|3/1/20|3:15:00 PM|3:45:00 PM|                                   30|                Busy|  Humans, Dogs, Pig...|                NULL|    40 degrees, sunny|\n",
      "|CENTRAL MANHATTAN|      B|Stuyvesant Square...|      9|3/1/20|3:00:00 PM|4:00:00 PM|                                   60|Calm, 20Š—–30 ppl...|  Humans, Dogs, Spa...|                Some|    45 degrees, sunny|\n",
      "|CENTRAL MANHATTAN|      B|Washington Square...|     10|3/1/20|3:20:00 PM|4:00:00 PM|                                   40|                Busy|          Humans, Dogs|                None| 45 degrees, sunny...|\n",
      "+-----------------+-------+--------------------+-------+------+----------+----------+-------------------------------------+--------------------+----------------------+--------------------+---------------------+\n",
      "only showing top 10 rows\n",
      "\n",
      "root\n",
      " |-- Area Name: string (nullable = true)\n",
      " |-- Area ID: string (nullable = true)\n",
      " |-- Park Name: string (nullable = true)\n",
      " |-- Park ID: string (nullable = true)\n",
      " |-- Date: string (nullable = true)\n",
      " |-- Start Time: string (nullable = true)\n",
      " |-- End Time: string (nullable = true)\n",
      " |-- Total Time (in minutes, if available): string (nullable = true)\n",
      " |-- Park Conditions: string (nullable = true)\n",
      " |-- Other Animal Sightings: string (nullable = true)\n",
      " |-- Litter: string (nullable = true)\n",
      " |-- Temperature & Weather: string (nullable = true)\n",
      "\n"
     ]
    }
   ],
   "source": [
    "#first view of the parks data, number of rows and schema\n",
    "print('total number of rows: {}'.format(df_pdata.count()))\n",
    "df_pdata.show(10)\n",
    "df_pdata.printSchema()\n"
   ]
  },
  {
   "cell_type": "code",
   "execution_count": 5,
   "metadata": {},
   "outputs": [
    {
     "name": "stderr",
     "output_type": "stream",
     "text": [
      "24/07/21 20:13:26 WARN SparkStringUtils: Truncated the string representation of a plan since it was too large. This behavior can be adjusted by setting 'spark.sql.debug.maxToStringFields'.\n"
     ]
    },
    {
     "name": "stdout",
     "output_type": "stream",
     "text": [
      "+-------+---------------+-------+--------------------+-----------------+------+----------+----------+-------------------------------------+-----------------+----------------------+--------------------+---------------------+\n",
      "|summary|      Area Name|Area ID|           Park Name|          Park ID|  Date|Start Time|  End Time|Total Time (in minutes, if available)|  Park Conditions|Other Animal Sightings|              Litter|Temperature & Weather|\n",
      "+-------+---------------+-------+--------------------+-----------------+------+----------+----------+-------------------------------------+-----------------+----------------------+--------------------+---------------------+\n",
      "|  count|             25|     25|                  25|               25|    25|        25|        25|                                   25|               23|                    24|                  19|                   23|\n",
      "|   mean|           NULL|   NULL|                NULL|           12.532|  NULL|      NULL|      NULL|                                36.68|             NULL|                  NULL|                NULL|                 NULL|\n",
      "| stddev|           NULL|   NULL|                NULL|6.923915077468817|  NULL|      NULL|      NULL|                   14.191311896133259|             NULL|                  NULL|                NULL|                 NULL|\n",
      "|    min|       BROOKLYN|      A|        Battery Park|                1|3/1/20|2:30:00 PM|3:35:00 PM|                                   10|\"\"\"Cool\"\" - Hank\"|  Hawks, Dogs, Pigeons|            Abundant| 36 degrees, cold,...|\n",
      "|    max|UPPER MANHATTAN|      D|Washington Square...|                9|3/1/20|3:47:00 PM|4:38:00 PM|                                   80|           Medium|  Humans, Pigeons, Cat|Some, mostly in t...|         windy, clear|\n",
      "+-------+---------------+-------+--------------------+-----------------+------+----------+----------+-------------------------------------+-----------------+----------------------+--------------------+---------------------+\n",
      "\n"
     ]
    }
   ],
   "source": [
    "df_pdata.describe().show()"
   ]
  },
  {
   "cell_type": "code",
   "execution_count": 6,
   "metadata": {},
   "outputs": [
    {
     "name": "stdout",
     "output_type": "stream",
     "text": [
      "['Area Name', 'Area ID', 'Park Name', 'Park ID', 'Date', 'Start Time', 'End Time', 'Total Time (in minutes, if available)', 'Park Conditions', 'Other Animal Sightings', 'Litter', 'Temperature & Weather']\n"
     ]
    }
   ],
   "source": [
    "col_names = df_pdata.columns\n",
    "print(col_names)\n"
   ]
  },
  {
   "cell_type": "code",
   "execution_count": 10,
   "metadata": {},
   "outputs": [
    {
     "name": "stdout",
     "output_type": "stream",
     "text": [
      "Unique elements of 'Area Name':\n",
      "['CENTRAL MANHATTAN', 'UPPER MANHATTAN', 'BROOKLYN', 'LOWER MANHATTAN']\n",
      "\n",
      "Unique elements of 'Area ID':\n",
      "['B', 'D', 'C', 'A']\n",
      "\n",
      "Unique elements of 'Park Name':\n",
      "['City Hall Park', 'Riverside Park (section near Grant Memorial)', 'Corlears Hook Park', 'Union Square Park', 'Marcus Garvey Park', 'Sara D. Roosevelt Park (Section Below Delancey St)', 'Washington Square Park', 'Sternberg Park', 'Sara D. Roosevelt Park (Section Above Delancey St)', 'McCarren Park', 'Thomas Paine Park', 'Stuyvesant Square Park', 'Tompkins Square Park', 'Fort Tryon Park', 'St. Nicholas Park', 'Seward Park', 'John V. Lindsay East River Park', 'Msgr. McGolrick Park', 'Cooper Park', 'J. Hood Wright Park', 'Battery Park', 'Columbus Park', 'Madison Square Park', 'Highbridge Park', 'Teardrop Park']\n",
      "\n",
      "Unique elements of 'Park ID':\n",
      "['7', '15', '11', '3', '8', '22', '16', '5', '18', '17', '6', '19', '23', '9', '24', '13.2', '1', '20', '10', '4', '12', '14', '21', '2', '13.1']\n",
      "\n",
      "Unique elements of 'Date':\n",
      "['3/1/20']\n",
      "\n",
      "Unique elements of 'Start Time':\n",
      "['3:14:00 PM', '3:47:00 PM', '3:06:00 PM', '3:45:00 PM', '3:00:00 PM', '3:01:00 PM', '3:25:00 PM', '3:35:00 PM', '3:37:00 PM', '3:20:00 PM', '3:15:00 PM', '3:21:00 PM', '2:30:00 PM', '3:10:00 PM', '3:30:00 PM', '3:34:00 PM']\n",
      "\n",
      "Unique elements of 'End Time':\n",
      "['4:15:00 PM', '3:45:00 PM', '3:55:00 PM', '4:38:00 PM', '3:40:00 PM', '3:35:00 PM', '4:04:00 PM', '4:05:00 PM', '4:00:00 PM', '3:50:00 PM']\n",
      "\n",
      "Unique elements of 'Total Time (in minutes, if available)':\n",
      "['51', '54', '30', '35', '60', '23', '40', '25', '44', '10', '80']\n",
      "\n",
      "Unique elements of 'Park Conditions':\n",
      "['Calm, 20Š—–30 ppl on each side', 'Calm', '\"\"\"Cool\"\" - Hank\"', 'Calm, pick-up baseball game', 'Medium', 'Busy', 'Calm, re: humans, but a hawk is certainly not a calming presence', None]\n",
      "\n",
      "Unique elements of 'Other Animal Sightings':\n",
      "['Humans, Hawks, Dogs, Pigeons, Rat', 'Humans (Joggers, Bikers), Dogs', 'Humans, Dogs, Fish in Pond, Geese, Half-eaten Dead Rat', 'Humans, Dogs', 'Humans, Dogs, Sparrows', 'Humans, Pigeons, Cat', 'Humans, Pigeons', 'Humans, Dogs (Gray)', 'Hawks, Dogs, Pigeons', 'Humans, Dogs, Pigeons', 'Humans, Dogs, Pigeons, Blackbird, Starling, Robins, Doves', 'Humans, Dogs (3, all on leashes), Downy Woodpecker (2), Robins, Song Birds', 'Humans, Dogs, Pigeons, Cardinals', None]\n",
      "\n",
      "Unique elements of 'Litter':\n",
      "['None', 'Some, in trees', 'Some, especially caught in wooded area in East, balloons in trees', 'Some', 'Some, mostly in trees', 'Abundant', 'Some, backside of park', None]\n",
      "\n",
      "Unique elements of 'Temperature & Weather':\n",
      "['43 degrees, clear', '42 degrees, clear', 'windy, clear', '45 degrees, sunny, NW wind', '43 degrees', '45 degrees, sunny with shade spots', '43 degrees, sunny', '42 degrees, windy, dry, clear', '36 degrees, cold, windy', '43 degrees, sunny, with 20-30 mph gusts', 'chilly, sunny', '40 degrees, sunny', 'cold, clear', '40-ish degrees, but sunny!', '48 degrees, sunny', '45 degrees, sunny', '44 degrees, sunny', None]\n",
      "\n"
     ]
    }
   ],
   "source": [
    "for element in col_names:\n",
    "    #for row in df_pdata.select(element). distinct().collect()\n",
    "    distinct_values = df_pdata.select(element).distinct().rdd.flatMap(lambda x: x).collect()    \n",
    "    print(f\"Unique elements of '{element}':\")\n",
    "    print(distinct_values)\n",
    "    print()"
   ]
  },
  {
   "cell_type": "code",
   "execution_count": 10,
   "metadata": {},
   "outputs": [
    {
     "name": "stdout",
     "output_type": "stream",
     "text": [
      "+---------------+-------+--------------------+-------+------+----------+----------+-------------------------------------+---------------+----------------------+------+---------------------+\n",
      "|      Area Name|Area ID|           Park Name|Park ID|  Date|Start Time|  End Time|Total Time (in minutes, if available)|Park Conditions|Other Animal Sightings|Litter|Temperature & Weather|\n",
      "+---------------+-------+--------------------+-------+------+----------+----------+-------------------------------------+---------------+----------------------+------+---------------------+\n",
      "|LOWER MANHATTAN|      C|Sara D. Roosevelt...|   13.1|3/1/20|3:30:00 PM|4:00:00 PM|                                   30|           Busy|   Humans, Dogs (Gray)|  Some|    44 degrees, sunny|\n",
      "|LOWER MANHATTAN|      C|Sara D. Roosevelt...|   13.2|3/1/20|3:30:00 PM|4:00:00 PM|                                   30|           Busy|       Humans, Pigeons|  Some|    43 degrees, sunny|\n",
      "+---------------+-------+--------------------+-------+------+----------+----------+-------------------------------------+---------------+----------------------+------+---------------------+\n",
      "\n"
     ]
    }
   ],
   "source": [
    "#THERE ARE MORE THAN ONE \"Sara D. Roosevelt Park\" with IDs 13.1 and 13.2, I will treat them as different parks, so IDs can not be integer\n",
    "filtered_park = df_pdata.filter((col(\"Park Name\") == \"Sara D. Roosevelt Park (Section Above Delancey St)\") | (col('Park Name') == \"Sara D. Roosevelt Park (Section Below Delancey St)\"))\n",
    "filtered_park.show()"
   ]
  },
  {
   "cell_type": "code",
   "execution_count": 20,
   "metadata": {},
   "outputs": [
    {
     "name": "stdout",
     "output_type": "stream",
     "text": [
      "List saved to condition_list.txt\n"
     ]
    }
   ],
   "source": [
    "conditons = set()\n",
    "name_column = df_pdata.select(\"Park Conditions\").collect()\n",
    "\n",
    "# Iterate over the 'name' column\n",
    "for row in name_column:\n",
    "    condition = extract_condition(row[\"Park Conditions\"])\n",
    "    if condition:\n",
    "        conditons.update(condition)\n",
    "    \n",
    "\n",
    "file_path = 'auxiliary_files/condition_list.txt'\n",
    "\n",
    "# Save the list to a text file\n",
    "with open(file_path, 'w') as file:\n",
    "    for item in list(conditons):\n",
    "        file.write(f\"{item}\\n\")\n",
    "\n",
    "print(f\"List saved to {file_path}\")"
   ]
  },
  {
   "cell_type": "markdown",
   "metadata": {},
   "source": [
    "## SQUIREL DATA"
   ]
  },
  {
   "cell_type": "code",
   "execution_count": 4,
   "metadata": {},
   "outputs": [
    {
     "name": "stdout",
     "output_type": "stream",
     "text": [
      "total number of rows: 433\n",
      "+-------+-----------+-----------------+-----------------------+-----------+------------+-----------------------------+-----------------+--------------------+------------------------+---------------------------+-----------------------------+-------------------------------+\n",
      "|Park ID|Squirrel ID|Primary Fur Color|Highlights in Fur Color|Color Notes|    Location|Above Ground (Height in Feet)|Specific Location|          Activities|Interactions with Humans|Other Notes or Observations|Squirrel Latitude (DD.DDDDDD)|Squirrel Longitude (-DD.DDDDDD)|\n",
      "+-------+-----------+-----------------+-----------------------+-----------+------------+-----------------------------+-----------------+--------------------+------------------------+---------------------------+-----------------------------+-------------------------------+\n",
      "|      1|    A-01-01|             Gray|                  White|       NULL|Ground Plane|                         NULL|             NULL|            Foraging|             Indifferent|                       NULL|                     40.85941|                     -73.933936|\n",
      "|      1|    A-01-02|             Gray|                  White|       NULL|Ground Plane|                         NULL|             NULL|            Foraging|             Indifferent|               Looks skinny|                    40.859436|                     -73.933937|\n",
      "|      1|    A-01-03|             Gray|                  White|       NULL|Ground Plane|                         NULL|             NULL|Eating, Digging s...|             Indifferent|                       NULL|                    40.859416|                     -73.933894|\n",
      "|      1|    A-01-04|             Gray|                  White|       NULL|Ground Plane|                         NULL|             NULL|             Running|             Indifferent|                       NULL|                    40.859418|                     -73.933895|\n",
      "|      1|    A-01-05|             Gray|               Cinnamon|       NULL|Ground Plane|                         NULL|             NULL|     Running, Eating|             Indifferent|              She left food|                    40.859493|                      -73.93359|\n",
      "|      1|    A-01-06|             Gray|               Cinnamon|       NULL|Ground Plane|                         NULL|             NULL|            Climbing|             Indifferent|                       NULL|                    40.860825|                     -73.932871|\n",
      "|      1|    A-01-07|             Gray|                  White|       NULL|Ground Plane|                         NULL|             NULL|            Foraging|             Indifferent|                       NULL|                    40.860225|                     -73.933143|\n",
      "|      1|    A-01-08|            Black|                   Gray|       NULL|Above Ground|                           10|             NULL|            Climbing|               Runs From|                       NULL|                    40.859965|                     -73.933412|\n",
      "|      1|    A-01-09|             Gray|                  White|       NULL|Ground Plane|                         NULL|             NULL|            Foraging|             Indifferent|                       NULL|                    40.859892|                     -73.933326|\n",
      "|      1|    A-01-10|             Gray|                  White|       NULL|Ground Plane|                         NULL|             NULL|     Eating, Digging|             Indifferent|                       NULL|                    40.859636|                     -73.933717|\n",
      "+-------+-----------+-----------------+-----------------------+-----------+------------+-----------------------------+-----------------+--------------------+------------------------+---------------------------+-----------------------------+-------------------------------+\n",
      "only showing top 10 rows\n",
      "\n",
      "root\n",
      " |-- Park ID: string (nullable = true)\n",
      " |-- Squirrel ID: string (nullable = true)\n",
      " |-- Primary Fur Color: string (nullable = true)\n",
      " |-- Highlights in Fur Color: string (nullable = true)\n",
      " |-- Color Notes: string (nullable = true)\n",
      " |-- Location: string (nullable = true)\n",
      " |-- Above Ground (Height in Feet): string (nullable = true)\n",
      " |-- Specific Location: string (nullable = true)\n",
      " |-- Activities: string (nullable = true)\n",
      " |-- Interactions with Humans: string (nullable = true)\n",
      " |-- Other Notes or Observations: string (nullable = true)\n",
      " |-- Squirrel Latitude (DD.DDDDDD): string (nullable = true)\n",
      " |-- Squirrel Longitude (-DD.DDDDDD): string (nullable = true)\n",
      "\n"
     ]
    },
    {
     "name": "stderr",
     "output_type": "stream",
     "text": [
      "24/07/21 20:31:05 WARN GarbageCollectionMetrics: To enable non-built-in garbage collector(s) List(G1 Concurrent GC), users should configure it(them) to spark.eventLog.gcMetrics.youngGenerationGarbageCollectors or spark.eventLog.gcMetrics.oldGenerationGarbageCollectors\n"
     ]
    }
   ],
   "source": [
    "print('total number of rows: {}'.format(df_sdata.count()))\n",
    "df_sdata.show(10)\n",
    "df_sdata.printSchema()"
   ]
  },
  {
   "cell_type": "code",
   "execution_count": 6,
   "metadata": {},
   "outputs": [
    {
     "name": "stdout",
     "output_type": "stream",
     "text": [
      "['Park ID', 'Squirrel ID', 'Primary Fur Color', 'Highlights in Fur Color', 'Color Notes', 'Location', 'Above Ground (Height in Feet)', 'Specific Location', 'Activities', 'Interactions with Humans', 'Other Notes or Observations', 'Squirrel Latitude (DD.DDDDDD)', 'Squirrel Longitude (-DD.DDDDDD)']\n"
     ]
    }
   ],
   "source": [
    "col_names = df_sdata.columns\n",
    "print(col_names)"
   ]
  },
  {
   "cell_type": "code",
   "execution_count": 11,
   "metadata": {},
   "outputs": [
    {
     "name": "stdout",
     "output_type": "stream",
     "text": [
      "Unique elements of 'Park ID':\n",
      "['7', '15', '11', '3', '8', '22', '16', '5', '18', '6', '19', '9', '1', '20', '10', '4', '12', '14', '21', '2']\n",
      "\n",
      "Unique elements of 'Squirrel ID':\n",
      "['B-11-34', 'C-19-14', 'C-20-19', 'A-04-01', 'A-05-05', 'A-02-20', 'B-10-11', 'D-22-42', 'B-09-02', 'B-11-54', 'C-20-03', 'D-22-33', 'C-20-15', 'D-22-05', 'D-22-32', 'C-20-13', 'B-07-05', 'C-19-10', 'C-20-16', 'A-04-12', 'B-11-35', 'A-05-07', 'A-06-15', 'B-10-02', 'B-12-11', 'C-14-03', 'C-19-01', 'B-11-45', 'C-20-21', 'D-22-04', 'B-11-26', 'B-11-28', 'A-03-11', 'D-22-06', 'D-22-41', 'A-02-09', 'B-08-06', 'A-03-07', 'B-10-40', 'C-20-24', 'A-02-13', 'A-04-05', 'C-14-07', 'A-05-10', 'C-19-05', 'B-11-31', 'C-20-07', 'C-20-11', 'D-22-22', 'B-09-07', 'B-10-07', 'A-03-14', 'A-06-03', 'B-11-05', 'D-22-07', 'A-02-18', 'B-10-18', 'B-11-32', 'B-07-01', 'B-11-51', 'A-05-04', 'A-06-17', 'B-10-47', 'C-19-16', 'B-10-51', 'B-09-03', 'B-10-42', 'C-14-04', 'D-22-31', 'A-05-20', 'A-06-01', 'A-06-05', 'B-07-07', 'B-10-48', 'B-12-10', 'A-05-18', 'B-11-58', 'C-20-02', 'B-09-11', 'B-10-05', 'B-11-23', 'C-19-18', 'D-21-13', 'D-22-08', 'D-22-43', 'A-05-12', 'B-09-08', 'C-15-10', 'D-21-09', 'A-01-07', 'A-04-07', 'B-07-11', 'B-09-01', 'B-10-30', 'A-02-06', 'A-03-10', 'B-11-08', 'A-06-25', 'C-15-09', 'A-05-06', 'A-06-22', 'B-07-06', 'B-10-41', 'B-11-21', 'D-21-01', 'B-11-12', 'C-20-09', 'A-01-08', 'A-05-28', 'A-06-19', 'D-22-44', 'D-22-02', 'A-02-05', 'B-10-50', 'B-11-10', 'B-11-20', 'B-12-08', 'C-20-22', 'C-20-26', 'A-06-12', 'A-06-21', 'C-19-09', 'D-22-30', 'B-09-20', 'C-14-02', 'A-05-27', 'B-07-03', 'A-03-04', 'A-05-19', 'B-11-06', 'A-06-27', 'B-11-42', 'C-20-06', 'C-20-23', 'A-03-06', 'B-10-21', 'B-11-03', 'A-02-04', 'B-11-19', 'B-11-59', 'C-16-04', 'B-08-12', 'B-10-26', 'B-10-36', 'B-12-06', 'C-15-07', 'C-16-02', 'B-11-01', 'A-04-08', 'A-06-13', 'B-08-07', 'D-22-14', 'A-06-16', 'B-11-13', 'B-11-41', 'B-11-55', 'A-04-10', 'A-05-08', 'A-03-09', 'A-06-14', 'C-20-12', 'D-22-18', 'B-10-44', 'B-12-05', 'A-02-03', 'B-12-01', 'D-21-02', 'D-22-15', 'D-22-36', 'A-06-20', 'B-11-48', 'B-08-16', 'D-22-37', 'B-07-02', 'B-08-02', 'B-10-13', 'B-10-45', 'B-12-09', 'C-15-13', 'C-19-07', 'A-05-17', 'A-06-02', 'B-09-04', 'C-19-04', 'B-11-04', 'C-15-04', 'B-08-05', 'B-11-46', 'B-12-12', 'D-22-26', 'A-05-14', 'B-10-06', 'A-03-16', 'A-03-15', 'C-14-01', 'C-19-06', 'A-05-24', 'B-11-56', 'A-03-13', 'A-01-06', 'A-02-11', 'B-11-29', 'C-20-18', 'A-02-16', 'A-05-09', 'B-10-04', 'D-22-10', 'B-08-15', 'B-09-06', 'B-11-17', 'A-02-17', 'B-10-35', 'B-11-37', 'B-11-52', 'B-11-53', 'A-06-06', 'B-11-43', 'B-11-47', 'B-09-17', 'B-10-15', 'B-07-09', 'B-12-02', 'B-09-19', 'B-08-14', 'B-08-08', 'B-09-14', 'C-15-11', 'A-05-21', 'B-09-12', 'C-15-16', 'D-22-16', 'D-21-14', 'B-10-20', 'C-16-03', 'A-04-15', 'A-01-05', 'B-11-02', 'D-22-39', 'A-03-05', 'C-15-05', 'A-02-08', 'B-11-18', 'D-22-34', 'D-22-40', 'A-03-01', 'B-10-34', 'C-20-20', 'D-21-05', 'A-01-09', 'A-06-08', 'D-22-01', 'A-05-22', 'C-20-08', 'D-22-38', 'B-09-16', 'B-10-17', 'B-10-25', 'B-08-11', 'B-10-09', 'B-10-12', 'A-05-13', 'A-05-15', 'D-22-23', 'D-22-29', 'A-02-21', 'A-04-02', 'A-06-11', 'B-10-16', 'D-22-03', 'A-06-28', 'B-10-38', 'C-15-12', 'A-06-24', 'C-20-17', 'D-22-20', 'D-22-24', 'A-06-18', 'B-09-05', 'B-09-25', 'A-01-10', 'B-11-39', 'D-21-04', 'C-19-17', 'B-10-23', 'B-11-09', 'B-11-44', 'C-20-14', 'A-01-01', 'B-10-14', 'B-08-01', 'C-20-10', 'D-21-12', 'A-05-01', 'D-22-21', 'C-15-03', 'D-22-19', 'A-06-23', 'B-10-08', 'B-10-43', 'B-11-33', 'B-08-03', 'B-09-18', 'A-04-03', 'A-04-13', 'A-05-11', 'B-08-13', 'A-01-11', 'A-03-03', 'D-22-11', 'A-06-33', 'C-15-08', 'A-04-04', 'A-05-02', 'A-02-02', 'B-11-30', 'B-11-57', 'D-22-25', 'A-01-12', 'A-02-10', 'B-08-10', 'B-11-11', 'C-16-01', 'A-04-09', 'B-08-04', 'B-11-36', 'C-15-01', 'A-06-26', 'A-05-25', 'D-21-11', 'A-04-11', 'B-09-23', 'D-21-03', 'B-11-07', 'B-11-49', 'C-14-05', 'C-19-11', 'A-02-15', 'A-06-29', 'B-11-38', 'D-21-10', 'A-02-24', 'B-10-31', 'B-10-37', 'A-02-07', 'A-06-30', 'B-07-10', 'B-09-21', 'B-10-39', 'A-03-08', 'C-15-02', 'D-22-13', 'A-06-09', 'B-07-08', 'A-02-23', 'A-04-06', 'A-06-34', 'B-09-09', 'A-05-16', 'B-09-22', 'B-11-24', 'A-06-04', 'B-10-01', 'C-15-15', 'D-21-06', 'B-11-14', 'B-11-50', 'C-20-01', 'A-06-31', 'C-18-01', 'A-06-07', 'B-09-10', 'C-19-03', 'D-22-09', 'A-06-32', 'D-22-28', 'B-07-04', 'B-10-46', 'C-19-13', 'A-01-04', 'A-05-23', 'B-09-13', 'C-20-04', 'D-22-27', 'A-02-14', 'C-14-06', 'B-12-04', 'C-19-02', 'C-19-08', 'A-02-01', 'B-10-32', 'B-09-24', 'A-02-12', 'B-12-07', 'D-21-07', 'A-01-02', 'A-03-12', 'B-10-33', 'B-11-15', 'C-15-14', 'C-20-25', 'B-10-10', 'D-22-17', 'A-02-19', 'A-03-02', 'A-04-14', 'B-08-09', 'B-10-22', 'B-10-27', 'B-10-29', 'C-15-06', 'B-10-28', 'B-11-25', 'D-21-08', 'A-01-03', 'B-10-19', 'B-12-03', 'B-09-15', 'B-10-49', 'C-19-15', 'C-20-05', 'D-22-35', 'A-06-10', 'B-11-27', 'B-11-40', 'A-05-26', 'A-02-22', 'B-10-24', 'B-11-16', 'D-22-12', 'A-05-03', 'B-10-03', 'B-11-22', 'C-19-12']\n",
      "\n",
      "Unique elements of 'Primary Fur Color':\n",
      "['Cinnamon', 'Gray', 'Black', None]\n",
      "\n",
      "Unique elements of 'Highlights in Fur Color':\n",
      "['Gray, Cinnamon', 'Cinnamon', 'Gray, White', 'Gray', 'White', 'Black', 'Cinnamon, White', None]\n",
      "\n",
      "Unique elements of 'Color Notes':\n",
      "['Reddish tail', 'Chestnut Brown?? May be black with sunlight??', 'White underbelly', 'White bellies', 'Cinnamon streak down back', 'Lots of white!', 'Very distinct white outlines on ears and ring around tail', 'Cinnamon tail', None]\n",
      "\n",
      "Unique elements of 'Location':\n",
      "['Ground Plane', 'Ground Plane, Above Ground', 'Specific Location', 'Ground Plane, Specific Location', 'Above Ground', 'Above Ground, Specific Location', None]\n",
      "\n",
      "Unique elements of 'Above Ground (Height in Feet)':\n",
      "['15', '3', '4...3...2...1', '30', '8', '35', '5', '10���12', '75', '6', '< 1', '60', '6���18', '40', '25', '20���40', '9', '1', '20', '20���30', '10', '4', '12', '14', '2', '2���6', None]\n",
      "\n",
      "Unique elements of 'Specific Location':\n",
      "['at tree', 'in tree high', 'on a bench', 'Tree', 'In a trash and metal heap next to baseball field', 'small trees', 'in short tree', 'by back steps of City Hall', 'in wall', 'Farragut Lawn', 'tree', 'on fence', 'base of tree', 'tree high', 'tree canopy, low down', 'small tree', 'in a tree', 'on fencing', 'at Nassau (Avenue) / Henry (Street)', 'on City Hall back steps', 'on bench', 'below park benches', 'by playground', 'Handrail', 'Started on ground, climbed 6���18 ft.', 'fence', 'on log', 'tree low', 'in old tree (oval lawn)', 'in tree', None]\n",
      "\n",
      "Unique elements of 'Activities':\n",
      "['Sitting', 'Sitting, shouting', 'Prancing about', 'battery', 'Foraging, Jumping', 'Eating (nuts), Foraging', 'Eating, Foraging', 'Hanging', \"Hangin' with #13 & #14\", 'Sleeping (Dead?)', 'Eating, Digging something', 'Climbing (down tree)', 'Sitting at attention', 'Running, Eating (or pretending to eat)', 'Foraging', 'Hanging out', 'Jumped to building', 'Climbing, Eating', 'Eating', 'Chilling', 'Chasing, Climbing, Eating', 'Guarding', 'Eating (tortilla/chip)', 'Digging', 'Chattering', \"Chillin', Rubbing butt on ground\", 'Defending tree, shouting', 'Ear scratching', 'Running, Chasing, Climbing', 'Running, Climbing, Eating', 'Climbing, Watching #2', 'Sticking out of a tree', 'Running, Digging', 'Very carefully watching a cat', 'Foraging, Nesting/gathering leaves', 'Climbing, Foraging', 'Sleeping', 'Climbing (down)', 'Lounging', 'Climbing, Foraging, Self-cleaning', 'Running, Eating (peanuts)', 'Sitting on branch', 'Running, Climbing, Foraging', 'Running, Climbing', 'Running, Eating', 'Climbing fence', 'Running, Chasing', 'Vocalization at us', 'Running', 'Climbing, Balancing on fencing', 'Posing', 'Climbing (tree)', 'Sitting (in tree hole)', 'Running, Climbing, Scratching', 'Chasing, Climbing', 'Running, Eating, Foraging', 'Climbing', 'Cleaning', 'Eating, Digging', 'Nesting', 'Frolicking', 'Grooming', 'Climbing, Eating, Foraging', 'Snacking in a tree', 'Eating, Burying', 'Resting in tree', 'Chasing', 'Running, up tree', 'Eating (bread crumbs), Foraging', 'Running, Foraging', 'Running, Chasing, Eating', 'Climbing, Sitting in short tree', None]\n",
      "\n",
      "Unique elements of 'Interactions with Humans':\n",
      "['Approaches, Runs From', 'Indifferent, Runs From (kids)', 'Approaches', 'Skittish to humans', 'Indifferent', 'Runs From, watchful', 'Friendly', 'Runs From, watches us in short tree', 'Watching us from tree - very interested in us', 'Runs From', 'Watching', 'Staring', 'Watches us from tree', 'Indifferent, Preoccupied by HAAWK', 'Okay with people', 'Approaches, watching us', 'Cautious of', 'Indifferent, Runs From', 'Interested in', 'Indifferent, Staring', 'Defensive', None]\n",
      "\n",
      "Unique elements of 'Other Notes or Observations':\n",
      "['Chasing #8', 'Looks like he has a patch of fur missing on his back', 'Wooded area', 'Perched up ��� came close to us!', 'Ran from base of tree to lawn about 20 feet away in search of food', 'Nut in mouth, very fast moving', 'Flirty, chasing #16, also eating urban farm debris', 'Chasing #3', 'They (#48 & #49) are fat.', 'It almost looks dead. Eyes open, curled up into itself in a nook in a tree with #35.', 'Being chased by #13', '#8 & #9 saw together at start of river overlook, hiding in cracks of cement wall! so cool!', 'Chasing #2 up the tree', 'Ran up the the 3rd baseline of a Little League field. Wrong way!', 'First seen on bench. Then jumped to ground, ran across path and onto lawn in search of food.', 'Ran in from baseball field', 'Skinny with tiny ears', 'Great jumper', '#5, #6 & #7 together in shrub area to East, a lot of acorns and Corona bottle caps on ground', 'Being chased by #9', 'Found nut and moved into tree', 'Ran up tree and down tree, tail vibration ��� not a flag or twitch, kuk sound', 'Jumping between', 'Too far to observe human interactions', 'Was very close to a dog and hid in a tree', 'Bushier and plump, big tail', 'Lots of garbage, near #8 & #9', 'Sun', 'Flirty, being chased by #15, also eating urban farm debris', 'Clinging to tree', 'Juvenile? Playing with #12 in tree', 'So curious! A unique color and thirst for the unknown.', 'Playing tag with #5', 'Cleaning himself like a cat would.', 'Perched on branch', '#1���5 all together being fed by humans', 'People eating at bench with dog', 'Timidly approached but ran from a passing pooch', 'Fast', 'Being chased by #2', 'Looking to us for food! Climbed tree when we did not have any to give.', 'Busy area', 'A little on the robust side', '#1���5 all together being fed by humans - Hungry', 'Medium bushy, maybe a little younger, agile, sprightly', 'was intimidated by a dog', 'Juvenile? Playing with #11 in tree', 'Being fed by people', 'Near a lot of little birds', 'Big and chubby', 'Fluffy', 'Looks cold, not moving, lethargic', 'Started in middle of tree, started chasing others up in branches, jumped from branch to branch', '#1���5 all together being fed by humans, Had a ton of leaves in his mouth for several minutes', '#6 & #7 in same tree', 'Came out to get peanut from human', 'Running around', '2 were chasing each other through some short trees, others just sat', 'Digging in leaves carelessly', 'Dog owners encouraging dogs to chase squirrels', 'Perched in a bush, watched us and scampered off to eat - very little squirrel', 'Forever wild section', 'Curious, thinks we have food', 'Wooded area - would look but not fully approach', 'Ran out of park', 'Came by to make sure we had proper Sighter buttons, looks like a Gerald', 'Jumped from one tree to next', 'Expected food', 'Leaping from branch to branch', 'Perched on knot of tree, watching us, then started foraging', 'Slid down a signpost while spinning. Other squirrels flung leaves at it, cheering.', 'Too quick', 'Ran very quickly', 'Scampered across path', 'Siblings? (with #3) Playing (with #3) in fenced yard', 'Boy, Alert ��� lots of basketball close by', 'Ran from ground to tree', 'Skinny tail, lots of digging, found an acorn and is eating', 'Chasing #3 up the tree', 'HAWK. HAAAAAWK. All in 1 tree.', \"Couldn't find a good spot to bury theirs (peanuts from humans)\", 'Seems left out', 'Obviously a couple with #8', 'Playing with another squirrel in a tree', 'HAWK. Same scene as 1���8. All gray.', 'Small, on tree on branch, two others below it', 'Busy digging for something', 'Defending the tree from the HAAAAWK. The bravest.', 'In squirrel house (pic). Someone is trying to feed squirrel in house.', 'Skinny tail ��� was in the baseball field', 'Found something to eat buried in leaves and then looked for more', 'Sitting next to #38 and eating', 'Ran up a tree', 'Ran away from kids and climbed up the tree', 'Nibbling on branches', 'Many pigeons lounging on lawn, tourist taking picture', 'Very upset that we spotted him accessing his tree-hole stash', 'Nibbling on shrubs?', 'Far away', '#6 & #7 in same tree - In general, visitors/people are trying to coax squirrels and take pictures. They are delighted to see squirrels.', 'Curled up together with #34. One big furry ball of squirrel.', 'Skinny', 'Baby smaller', 'Running against fence', 'Obviously a couple with #9', 'Big', 'Meandering among the branches', 'Birds walking nearby', 'Sitting next to #39 and eating', 'First spotted in tree, then climbed down. Squirrel was small in stature.', 'Successfully finding buried food', 'We fed him!', 'Very small, climbed from one tree to another', 'She left food', 'Chasing #15', 'Siblings? (with #4) Playing (with #4) in fenced yard', 'Patchy �����bald spots', 'Turning around, trying to eat', 'Dog chased it up a tree', 'Looks skinny', '#1 and #2 chasing each other', 'Frantically zig-zagging whilst clutching a mid-afternoon snack', 'Loud sparrows in tree', 'Walking around bushes', 'Pretty fat', 'Playing tag with #4', 'Scar on forehead', 'Shady', 'High up in a tree, lots of talking', '\"Rolling around in loose dirt with a \"\"swimming\"\" motion\"', 'Very chubby cinnamon squirrel got peanuts from humans and buried them in leaves', 'Perched on branch, just hanging out', 'Standing at base of tree, then climbed up', 'Very active, darting around', 'Multiple nut dives into the leaves; mostly successful', '#13, #14 & #15: Scattering and teasing a Shih Tzu that chased them, runs from dog', 'One of three together on a tree', None]\n",
      "\n"
     ]
    }
   ],
   "source": [
    "for element in col_names[:-2]:\n",
    "    #for row in df_pdata.select(element). distinct().collect()\n",
    "    distinct_values = df_sdata.select(element).distinct().rdd.flatMap(lambda x: x).collect()    \n",
    "    print(f\"Unique elements of '{element}':\")\n",
    "    print(distinct_values)\n",
    "    print()"
   ]
  },
  {
   "cell_type": "code",
   "execution_count": 12,
   "metadata": {},
   "outputs": [],
   "source": [
    "def verb_extractor(activities_str):\n",
    "    if activities_str:\n",
    "        act_output = re.sub(r'\\[.*?\\]', '', activities_str)\n",
    "        act_output = re.sub(r'\\(.*?\\)', '', act_output)\n",
    "        act_output = re.sub(r'\\{.*?\\}', '', act_output)\n",
    "        act_output = act_output.replace('/', ' ')\n",
    "        act_output = act_output.replace(\"'\", 'g')\n",
    "        act_output = re.sub(r'[^\\w\\s]', '', act_output)\n",
    "        act_output = act_output.lower()\n",
    "        \n",
    "        nlp = spacy.load('en_core_web_sm')\n",
    "        \n",
    "        doc = nlp(act_output)\n",
    "        \n",
    "        verbs_set = set()\n",
    "        \n",
    "        for token in doc:\n",
    "            if token.pos_ == \"VERB\":\n",
    "                verbs_set.add(token.text)\n",
    "        #verbs = [token.text for token in doc if token.pos_ == \"VERB\"]\n",
    "        if len(verbs_set) < 1 :\n",
    "            return None\n",
    "        else:\n",
    "            return verbs_set\n",
    "        \n",
    "        \n",
    "verb_set= set()\n",
    "name_column = df_sdata.select(\"Activities\").collect()\n",
    "\n",
    "# Iterate over the 'name' column\n",
    "for row in name_column:\n",
    "    verbs = verb_extractor(row[\"Activities\"])\n",
    "    if verbs:\n",
    "        verb_set.update(verbs)\n",
    "    \n",
    "\n",
    "file_path = 'auxiliary_files/verb_list.txt'\n",
    "\n",
    "# Save the list to a text file\n",
    "with open(file_path, 'w') as file:\n",
    "    for item in list(verb_set):\n",
    "        file.write(f\"{item}\\n\")\n",
    "\n",
    "print(f\"List saved to {file_path}\")"
   ]
  },
  {
   "cell_type": "code",
   "execution_count": null,
   "metadata": {},
   "outputs": [],
   "source": []
  }
 ],
 "metadata": {
  "kernelspec": {
   "display_name": "torch_gnn",
   "language": "python",
   "name": "python3"
  },
  "language_info": {
   "codemirror_mode": {
    "name": "ipython",
    "version": 3
   },
   "file_extension": ".py",
   "mimetype": "text/x-python",
   "name": "python",
   "nbconvert_exporter": "python",
   "pygments_lexer": "ipython3",
   "version": "3.9.7"
  }
 },
 "nbformat": 4,
 "nbformat_minor": 2
}
